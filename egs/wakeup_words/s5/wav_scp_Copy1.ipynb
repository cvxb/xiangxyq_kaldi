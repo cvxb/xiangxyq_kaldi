{
 "cells": [
  {
   "cell_type": "code",
   "execution_count": 1,
   "metadata": {},
   "outputs": [],
   "source": [
    "import os\n",
    "import sys\n",
    "from pathlib import Path\n",
    "import re\n",
    "import jieba\n",
    "import random"
   ]
  },
  {
   "cell_type": "code",
   "execution_count": 2,
   "metadata": {},
   "outputs": [],
   "source": [
    "def choice_rate(i):\n",
    "    if random.randint(1,100) < i:\n",
    "        return True\n",
    "    return False"
   ]
  },
  {
   "cell_type": "code",
   "execution_count": null,
   "metadata": {},
   "outputs": [],
   "source": []
  },
  {
   "cell_type": "markdown",
   "metadata": {},
   "source": [
    "## 准备词典"
   ]
  },
  {
   "cell_type": "code",
   "execution_count": 3,
   "metadata": {},
   "outputs": [],
   "source": [
    "# !python tools/prep_dict.py lexicon.txt\n",
    "# !cd gmm && rm -rf data/dict/* && bash local/prepare_dict.sh ../lexicon.txt data/dict"
   ]
  },
  {
   "cell_type": "code",
   "execution_count": 4,
   "metadata": {},
   "outputs": [],
   "source": [
    "# !rm gmm/data/dict/*\n",
    "# !cp lexicon.txt silence_phones.txt nonsilence_phones.txt extra_questions.txt optional_silence.txt gmm/data/dict\n",
    "# !rm silence_phones.txt nonsilence_phones.txt extra_questions.txt optional_silence.txt"
   ]
  },
  {
   "cell_type": "markdown",
   "metadata": {},
   "source": [
    "## SLR85生成wav.scp"
   ]
  },
  {
   "cell_type": "code",
   "execution_count": 5,
   "metadata": {},
   "outputs": [],
   "source": [
    "SLR85_dir = \"/home1/meichaoyang/dataset/SLR85/dev/SPEECHDATA/wav\"\n",
    "SLR85_wav_scp = '/home1/meichaoyang/dataset/data_aishell2/wake_up/SLR_wav.scp'\n",
    "SLR85_trans = '/home1/meichaoyang/dataset/data_aishell2/wake_up/SLR_trans.scp'\n",
    "SLR_wav_list=list(Path(SLR85_dir).rglob(\"*.wav\"))"
   ]
  },
  {
   "cell_type": "code",
   "execution_count": 6,
   "metadata": {},
   "outputs": [],
   "source": [
    "SLR_wav_list.sort(key=lambda Path: os.path.basename(os.path.splitext((str(Path)))[0]))"
   ]
  },
  {
   "cell_type": "code",
   "execution_count": 7,
   "metadata": {},
   "outputs": [
    {
     "data": {
      "text/plain": [
       "164640"
      ]
     },
     "execution_count": 7,
     "metadata": {},
     "output_type": "execute_result"
    }
   ],
   "source": [
    "len(SLR_wav_list)"
   ]
  },
  {
   "cell_type": "code",
   "execution_count": 8,
   "metadata": {},
   "outputs": [],
   "source": [
    "with open(SLR85_wav_scp, 'w') as f:\n",
    "    for path_item in SLR_wav_list:\n",
    "        wav_path = str(path_item)\n",
    "        f.write(os.path.basename(os.path.splitext((wav_path))[0])+'\\t'+wav_path+'\\n')"
   ]
  },
  {
   "cell_type": "code",
   "execution_count": 9,
   "metadata": {},
   "outputs": [],
   "source": [
    "with open(SLR85_trans, 'w') as f:\n",
    "    for path_item in SLR_wav_list:\n",
    "        wav_path = str(path_item)\n",
    "        f.write(os.path.basename(os.path.splitext((wav_path))[0])+'\\t'+\"你好米雅\"+'\\n')"
   ]
  },
  {
   "cell_type": "markdown",
   "metadata": {},
   "source": [
    "### 并筛选一部分放入SLR_wav.scp.shuff文件中"
   ]
  },
  {
   "cell_type": "code",
   "execution_count": 10,
   "metadata": {},
   "outputs": [],
   "source": [
    "# !bash tools/random_line.sh SLR_wav.scp 5 SLR_wav.scp.shuff"
   ]
  },
  {
   "cell_type": "markdown",
   "metadata": {},
   "source": [
    "> 并筛选一部分放入SLR_wav.scp.shuff文件中"
   ]
  },
  {
   "cell_type": "markdown",
   "metadata": {},
   "source": [
    "## Aishell2数据处理"
   ]
  },
  {
   "cell_type": "markdown",
   "metadata": {},
   "source": [
    "### 生成Aishell2的原始wav.scp"
   ]
  },
  {
   "cell_type": "code",
   "execution_count": 11,
   "metadata": {},
   "outputs": [],
   "source": [
    "aishell_dir = \"/home1/meichaoyang/dataset/data_aishell2/data_aishell/wav\"\n",
    "scp_path=\"/home1/meichaoyang/dataset/data_aishell2/wake_up/Aishell_wav_raw.scp\""
   ]
  },
  {
   "cell_type": "code",
   "execution_count": 12,
   "metadata": {},
   "outputs": [],
   "source": [
    "aishell_wav_list=list(Path(aishell_dir).rglob(\"*.wav\"))\n",
    "aishell_wav_list.sort(key=lambda Path: os.path.basename(os.path.splitext((str(Path)))[0]))\n",
    "aishell_scp_raw = {}\n",
    "with open(scp_path, 'w') as f:\n",
    "    for path_item in aishell_wav_list:\n",
    "        wav_path = str(path_item)\n",
    "        aishell_scp_raw[os.path.basename(os.path.splitext((wav_path))[0])] = wav_path\n",
    "        f.write(os.path.basename(os.path.splitext((wav_path))[0])+'\\t'+wav_path+'\\n')"
   ]
  },
  {
   "cell_type": "markdown",
   "metadata": {},
   "source": [
    "### 对train满足条件的标注进行筛选"
   ]
  },
  {
   "cell_type": "code",
   "execution_count": 13,
   "metadata": {},
   "outputs": [],
   "source": [
    "cidian=\"/home1/meichaoyang/kaldi/egs/wakeup_words1/corpus/res/lexicon.txt\"\n",
    "lexicon_map={}"
   ]
  },
  {
   "cell_type": "code",
   "execution_count": 14,
   "metadata": {},
   "outputs": [],
   "source": [
    "with open(cidian, \"r\") as f:\n",
    "    for line in f:\n",
    "        data = line.split()\n",
    "        lexicon_map[data[0]] = \" \".join(data[1:])"
   ]
  },
  {
   "cell_type": "code",
   "execution_count": 15,
   "metadata": {},
   "outputs": [],
   "source": [
    "# url = '/C0001/IC0001W0001.wav' # 需要拆分的字符串\n",
    "# result = re.split(r'[/|.]' , url) # 以pattern的值 分割字符串\n",
    "# print(result)"
   ]
  },
  {
   "cell_type": "code",
   "execution_count": null,
   "metadata": {},
   "outputs": [],
   "source": []
  },
  {
   "cell_type": "code",
   "execution_count": 16,
   "metadata": {},
   "outputs": [],
   "source": [
    "aishell_2_corp_raw = \"/home1/meichaoyang/dataset/data_aishell2/data_aishell/wav/trans.txt\"\n",
    "aishell_scp = \"/home1/meichaoyang/dataset/data_aishell2/wake_up/aishell_wav.scp\"\n",
    "aishell_corp = \"/home1/meichaoyang/dataset/data_aishell2/wake_up/aishell_trans.txt\""
   ]
  },
  {
   "cell_type": "code",
   "execution_count": 17,
   "metadata": {},
   "outputs": [
    {
     "name": "stdout",
     "output_type": "stream",
     "text": [
      "['C0124/IC0124W0027.wav', '淮海路高雅商业文化街']\n",
      "['C0124/IC0124W0027.wav', '淮海路高雅商业文化街']\n",
      "['C0124/IC0124W0027.wav', '淮海路高雅商业文化街']\n",
      "['C0124/IC0124W0027.wav', '淮海路高雅商业文化街']\n",
      "['C0124/IC0124W0027.wav', '淮海路高雅商业文化街']\n",
      "['C0124/IC0124W0027.wav', '淮海路高雅商业文化街']\n",
      "['C0124/IC0124W0027.wav', '淮海路高雅商业文化街']\n",
      "['C0124/IC0124W0027.wav', '淮海路高雅商业文化街']\n",
      "['C0124/IC0124W0027.wav', '淮海路高雅商业文化街']\n",
      "['C0124/IC0124W0027.wav', '淮海路高雅商业文化街']\n",
      "['C0124/IC0124W0027.wav', '淮海路高雅商业文化街']\n",
      "['C0124/IC0124W0027.wav', '淮海路高雅商业文化街']\n",
      "['C0554/IC0554W0018.wav', '高雅网络中心']\n",
      "['C0554/IC0554W0018.wav', '高雅网络中心']\n",
      "['C0554/IC0554W0018.wav', '高雅网络中心']\n",
      "['C0554/IC0554W0018.wav', '高雅网络中心']\n",
      "['C0554/IC0554W0018.wav', '高雅网络中心']\n",
      "['C0554/IC0554W0018.wav', '高雅网络中心']\n",
      "['C0554/IC0554W0018.wav', '高雅网络中心']\n",
      "['C0554/IC0554W0018.wav', '高雅网络中心']\n",
      "['C0554/IC0554W0018.wav', '高雅网络中心']\n",
      "['C0554/IC0554W0018.wav', '高雅网络中心']\n",
      "['C0554/IC0554W0018.wav', '高雅网络中心']\n",
      "['C0554/IC0554W0018.wav', '高雅网络中心']\n",
      "['C9051/IC9051W0352.wav', '或弗罗拉高雅到不必小便']\n",
      "['C9051/IC9051W0352.wav', '或弗罗拉高雅到不必小便']\n",
      "['C9051/IC9051W0352.wav', '或弗罗拉高雅到不必小便']\n",
      "['C9051/IC9051W0352.wav', '或弗罗拉高雅到不必小便']\n",
      "['C9051/IC9051W0352.wav', '或弗罗拉高雅到不必小便']\n",
      "['C9051/IC9051W0352.wav', '或弗罗拉高雅到不必小便']\n",
      "['C9051/IC9051W0352.wav', '或弗罗拉高雅到不必小便']\n",
      "['C9051/IC9051W0352.wav', '或弗罗拉高雅到不必小便']\n",
      "['C9051/IC9051W0352.wav', '或弗罗拉高雅到不必小便']\n",
      "['C9051/IC9051W0352.wav', '或弗罗拉高雅到不必小便']\n",
      "['C9051/IC9051W0352.wav', '或弗罗拉高雅到不必小便']\n",
      "['C9051/IC9051W0352.wav', '或弗罗拉高雅到不必小便']\n",
      "['C9052/IC9052W0390.wav', '而且很高雅呢']\n",
      "['C9052/IC9052W0390.wav', '而且很高雅呢']\n",
      "['C9052/IC9052W0390.wav', '而且很高雅呢']\n",
      "['C9052/IC9052W0390.wav', '而且很高雅呢']\n",
      "['C9052/IC9052W0390.wav', '而且很高雅呢']\n",
      "['C9052/IC9052W0390.wav', '而且很高雅呢']\n",
      "['C9052/IC9052W0390.wav', '而且很高雅呢']\n",
      "['C9052/IC9052W0390.wav', '而且很高雅呢']\n",
      "['C9052/IC9052W0390.wav', '而且很高雅呢']\n",
      "['C9052/IC9052W0390.wav', '而且很高雅呢']\n",
      "['C9052/IC9052W0390.wav', '而且很高雅呢']\n",
      "['C9052/IC9052W0390.wav', '而且很高雅呢']\n",
      "['C9124/IC9124W0027.wav', '淮海路高雅商业文化街']\n",
      "['C9124/IC9124W0027.wav', '淮海路高雅商业文化街']\n",
      "['C9124/IC9124W0027.wav', '淮海路高雅商业文化街']\n",
      "['C9124/IC9124W0027.wav', '淮海路高雅商业文化街']\n",
      "['C9124/IC9124W0027.wav', '淮海路高雅商业文化街']\n",
      "['C9124/IC9124W0027.wav', '淮海路高雅商业文化街']\n",
      "['C9124/IC9124W0027.wav', '淮海路高雅商业文化街']\n",
      "['C9124/IC9124W0027.wav', '淮海路高雅商业文化街']\n",
      "['C9124/IC9124W0027.wav', '淮海路高雅商业文化街']\n",
      "['C9124/IC9124W0027.wav', '淮海路高雅商业文化街']\n",
      "['C9124/IC9124W0027.wav', '淮海路高雅商业文化街']\n",
      "['C9124/IC9124W0027.wav', '淮海路高雅商业文化街']\n"
     ]
    }
   ],
   "source": [
    "pattern_utt = re.compile(r'/.*\\.')\n",
    "pattern_Eng = re.compile(u'[a-zA-Z\\n]')\n",
    "corp_map_train = {}\n",
    "corp_map_test = {}\n",
    "corp_map_dev = {}\n",
    "with open(aishell_2_corp_raw, \"r\") as f:\n",
    "    for line in f:\n",
    "        choiced = False\n",
    "        data = line.split()\n",
    "        if len(data[1]) > 30 or pattern_Eng.search(data[1]) != None: ##删除小于10和非英文标注\n",
    "            continue\n",
    "        for word in lexicon_map.keys():\n",
    "            if \"高雅\" in data[1]:\n",
    "                print(data)\n",
    "            if word in data[1]:\n",
    "                corp_map_train[re.split(r'[/|.]' , data[0])[-2]] = data[1]\n",
    "                choiced = True\n",
    "                break\n",
    "\n",
    "        if choiced:\n",
    "            continue\n",
    "        elif choice_rate(10):\n",
    "            corp_map_train[re.split(r'[/|.]' , data[0])[-2]] = data[1]\n",
    "        elif choice_rate(80):\n",
    "            corp_map_test[re.split(r'[/|.]' , data[0])[-2]] = data[1]\n",
    "        elif choice_rate(75):\n",
    "            corp_map_dev[re.split(r'[/|.]' , data[0])[-2]] = data[1]"
   ]
  },
  {
   "cell_type": "code",
   "execution_count": 18,
   "metadata": {},
   "outputs": [
    {
     "data": {
      "text/plain": [
       "'淮海路高雅商业文化街'"
      ]
     },
     "execution_count": 18,
     "metadata": {},
     "output_type": "execute_result"
    }
   ],
   "source": [
    "corp_map_train[\"IC0124W0027\"]"
   ]
  },
  {
   "cell_type": "markdown",
   "metadata": {},
   "source": [
    "### 抽取SLR中的部分数据并入aishell2的train、test、dev"
   ]
  },
  {
   "cell_type": "code",
   "execution_count": 19,
   "metadata": {},
   "outputs": [],
   "source": [
    "SLR_wav_scp = {}\n",
    "SLR_wav_corp = {}"
   ]
  },
  {
   "cell_type": "code",
   "execution_count": 20,
   "metadata": {},
   "outputs": [],
   "source": [
    "with open(SLR85_wav_scp, \"r\") as f:\n",
    "    for line in f:\n",
    "        data = line.split()\n",
    "        SLR_wav_scp[data[0]] = data[1]\n",
    "        SLR_wav_corp[data[0]] = \"你好米雅\""
   ]
  },
  {
   "cell_type": "code",
   "execution_count": 21,
   "metadata": {},
   "outputs": [],
   "source": [
    "SLR_train_key = random.sample(list(SLR_wav_scp.keys()), 10000)\n",
    "SLR_test_key = random.sample(list(SLR_wav_scp.keys()), 1000)\n",
    "SLR_dev_key = random.sample(list(SLR_wav_scp.keys()), 1000)"
   ]
  },
  {
   "cell_type": "code",
   "execution_count": 22,
   "metadata": {},
   "outputs": [],
   "source": [
    "SLR_wav_scp_tran=dict([(key, SLR_wav_scp[key]) for key in SLR_train_key])\n",
    "SLR_wav_corp_tran=dict([(key, SLR_wav_corp[key]) for key in SLR_train_key])"
   ]
  },
  {
   "cell_type": "code",
   "execution_count": 23,
   "metadata": {},
   "outputs": [],
   "source": [
    "SLR_wav_scp_test=dict([(key, SLR_wav_scp[key]) for key in SLR_test_key])\n",
    "SLR_wav_corp_test=dict([(key, SLR_wav_corp[key]) for key in SLR_test_key])"
   ]
  },
  {
   "cell_type": "code",
   "execution_count": 24,
   "metadata": {},
   "outputs": [],
   "source": [
    "SLR_wav_scp_dev=dict([(key, SLR_wav_scp[key]) for key in SLR_dev_key])\n",
    "SLR_wav_corp_dev=dict([(key, SLR_wav_corp[key]) for key in SLR_dev_key])"
   ]
  },
  {
   "cell_type": "markdown",
   "metadata": {},
   "source": [
    "#### 训练集"
   ]
  },
  {
   "cell_type": "code",
   "execution_count": 25,
   "metadata": {},
   "outputs": [],
   "source": [
    "aishell_scp_train = {}\n",
    "for i in sorted(aishell_scp_raw):\n",
    "    if i not in corp_map_train.keys():\n",
    "        continue\n",
    "    aishell_scp_train[i] = aishell_scp_raw[i]"
   ]
  },
  {
   "cell_type": "code",
   "execution_count": 26,
   "metadata": {},
   "outputs": [],
   "source": [
    "wav_scp_train = {**SLR_wav_scp_tran,**aishell_scp_train}\n",
    "corpus_train = {**SLR_wav_corp_tran, **corp_map_train}"
   ]
  },
  {
   "cell_type": "code",
   "execution_count": null,
   "metadata": {},
   "outputs": [],
   "source": []
  },
  {
   "cell_type": "code",
   "execution_count": 27,
   "metadata": {},
   "outputs": [],
   "source": [
    "with open('/home1/meichaoyang/dataset/data_aishell2/wake_up/data/wav.scp', 'w') as f:\n",
    "    for i in sorted(wav_scp_train):\n",
    "        f.write(i+'\\t'+wav_scp_train[i]+'\\n')\n",
    "        \n",
    "with open('/home1/meichaoyang/dataset/data_aishell2/wake_up/data/trans.txt', 'w') as f:\n",
    "    for i in sorted(corpus_train):\n",
    "        f.write(i+'\\t'+corpus_train[i]+'\\n')"
   ]
  },
  {
   "cell_type": "markdown",
   "metadata": {},
   "source": [
    "#### 测试集"
   ]
  },
  {
   "cell_type": "code",
   "execution_count": 28,
   "metadata": {},
   "outputs": [],
   "source": [
    "aishell_scp_test = dict([(key,aishell_scp_raw[key])for key in sorted(corp_map_test.keys())])"
   ]
  },
  {
   "cell_type": "code",
   "execution_count": 29,
   "metadata": {},
   "outputs": [],
   "source": [
    "wav_scp_test = {**SLR_wav_scp_test,**aishell_scp_test}\n",
    "corpus_test = {**SLR_wav_corp_test, **corp_map_test}"
   ]
  },
  {
   "cell_type": "code",
   "execution_count": 30,
   "metadata": {},
   "outputs": [],
   "source": [
    "with open('/home1/meichaoyang/dataset/data_aishell2/wake_up/test/wav.scp', 'w') as f:\n",
    "    for i in sorted(wav_scp_test):\n",
    "        f.write(i+'\\t'+wav_scp_test[i]+'\\n')\n",
    "        \n",
    "with open('/home1/meichaoyang/dataset/data_aishell2/wake_up/test/trans.txt', 'w') as f:\n",
    "    for i in sorted(corpus_test):\n",
    "        f.write(i+'\\t'+corpus_test[i]+'\\n')"
   ]
  },
  {
   "cell_type": "markdown",
   "metadata": {},
   "source": [
    "#### 开发集"
   ]
  },
  {
   "cell_type": "code",
   "execution_count": 31,
   "metadata": {},
   "outputs": [],
   "source": [
    "aishell_scp_dev = dict([(key,aishell_scp_raw[key])for key in sorted(corp_map_test.keys())])"
   ]
  },
  {
   "cell_type": "code",
   "execution_count": 32,
   "metadata": {},
   "outputs": [],
   "source": [
    "wav_scp_dev = {**SLR_wav_scp_dev,**aishell_scp_dev}\n",
    "corpus_dev = {**SLR_wav_corp_dev, **corp_map_dev}"
   ]
  },
  {
   "cell_type": "code",
   "execution_count": 33,
   "metadata": {},
   "outputs": [],
   "source": [
    "with open('/home1/meichaoyang/dataset/data_aishell2/wake_up/dev/wav.scp', 'w') as f:\n",
    "    for i in sorted(wav_scp_dev):\n",
    "        f.write(i+'\\t'+wav_scp_dev[i]+'\\n')\n",
    "        \n",
    "with open('/home1/meichaoyang/dataset/data_aishell2/wake_up/dev/trans.txt', 'w') as f:\n",
    "    for i in sorted(corpus_dev):\n",
    "        f.write(i+'\\t'+corpus_dev[i]+'\\n')"
   ]
  },
  {
   "cell_type": "code",
   "execution_count": null,
   "metadata": {},
   "outputs": [],
   "source": []
  },
  {
   "cell_type": "code",
   "execution_count": null,
   "metadata": {},
   "outputs": [],
   "source": []
  }
 ],
 "metadata": {
  "kernelspec": {
   "display_name": "Python 3",
   "language": "python",
   "name": "python3"
  },
  "language_info": {
   "codemirror_mode": {
    "name": "ipython",
    "version": 3
   },
   "file_extension": ".py",
   "mimetype": "text/x-python",
   "name": "python",
   "nbconvert_exporter": "python",
   "pygments_lexer": "ipython3",
   "version": "3.7.3"
  }
 },
 "nbformat": 4,
 "nbformat_minor": 2
}
