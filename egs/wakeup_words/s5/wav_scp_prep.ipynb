{
 "cells": [
  {
   "cell_type": "code",
   "execution_count": 1,
   "metadata": {},
   "outputs": [],
   "source": [
    "import os\n",
    "import sys\n",
    "from pathlib import Path\n",
    "import re\n",
    "import jieba\n",
    "import random"
   ]
  },
  {
   "cell_type": "markdown",
   "metadata": {},
   "source": [
    "## 准备词典"
   ]
  },
  {
   "cell_type": "code",
   "execution_count": 2,
   "metadata": {},
   "outputs": [],
   "source": [
    "# !python tools/prep_dict.py lexicon.txt\n",
    "# !cd gmm && rm -rf data/dict/* && bash local/prepare_dict.sh ../lexicon.txt data/dict"
   ]
  },
  {
   "cell_type": "code",
   "execution_count": 3,
   "metadata": {},
   "outputs": [],
   "source": [
    "# !rm gmm/data/dict/*\n",
    "# !cp lexicon.txt silence_phones.txt nonsilence_phones.txt extra_questions.txt optional_silence.txt gmm/data/dict\n",
    "# !rm silence_phones.txt nonsilence_phones.txt extra_questions.txt optional_silence.txt"
   ]
  },
  {
   "cell_type": "markdown",
   "metadata": {},
   "source": [
    "## SLR85生成wav.scp"
   ]
  },
  {
   "cell_type": "code",
   "execution_count": 4,
   "metadata": {},
   "outputs": [],
   "source": [
    "SLR85_dir = \"/home1/meichaoyang/dataset/SLR85/dev/SPEECHDATA/wav\"\n",
    "SLR85_wav_scp = '/home1/meichaoyang/dataset/data_aishell2/wake_up/SLR_wav.scp'\n",
    "SLR85_trans = '/home1/meichaoyang/dataset/data_aishell2/wake_up/SLR_trans.scp'\n",
    "SLR_wav_list=list(Path(SLR85_dir).rglob(\"*.wav\"))"
   ]
  },
  {
   "cell_type": "code",
   "execution_count": 5,
   "metadata": {},
   "outputs": [],
   "source": [
    "SLR_wav_list.sort(key=lambda Path: os.path.basename(os.path.splitext((str(Path)))[0]))"
   ]
  },
  {
   "cell_type": "code",
   "execution_count": 6,
   "metadata": {},
   "outputs": [
    {
     "data": {
      "text/plain": [
       "164640"
      ]
     },
     "execution_count": 6,
     "metadata": {},
     "output_type": "execute_result"
    }
   ],
   "source": [
    "len(SLR_wav_list)"
   ]
  },
  {
   "cell_type": "code",
   "execution_count": 7,
   "metadata": {},
   "outputs": [],
   "source": [
    "with open(SLR85_wav_scp, 'w') as f:\n",
    "    for path_item in SLR_wav_list:\n",
    "        wav_path = str(path_item)\n",
    "        f.write(os.path.basename(os.path.splitext((wav_path))[0])+'\\t'+wav_path+'\\n')"
   ]
  },
  {
   "cell_type": "code",
   "execution_count": 8,
   "metadata": {},
   "outputs": [],
   "source": [
    "with open(SLR85_trans, 'w') as f:\n",
    "    for path_item in SLR_wav_list:\n",
    "        wav_path = str(path_item)\n",
    "        f.write(os.path.basename(os.path.splitext((wav_path))[0])+'\\t'+\"你好米雅\"+'\\n')"
   ]
  },
  {
   "cell_type": "markdown",
   "metadata": {},
   "source": [
    "### 并筛选一部分放入SLR_wav.scp.shuff文件中"
   ]
  },
  {
   "cell_type": "code",
   "execution_count": 9,
   "metadata": {},
   "outputs": [],
   "source": [
    "# !bash tools/random_line.sh SLR_wav.scp 5 SLR_wav.scp.shuff"
   ]
  },
  {
   "cell_type": "markdown",
   "metadata": {},
   "source": [
    "> 并筛选一部分放入SLR_wav.scp.shuff文件中"
   ]
  },
  {
   "cell_type": "markdown",
   "metadata": {},
   "source": [
    "## Aishell2数据处理"
   ]
  },
  {
   "cell_type": "markdown",
   "metadata": {},
   "source": [
    "### 生成Aishell2的原始wav.scp"
   ]
  },
  {
   "cell_type": "code",
   "execution_count": 10,
   "metadata": {},
   "outputs": [],
   "source": [
    "aishell_dir = \"/home1/meichaoyang/dataset/data_aishell2/wav\"\n",
    "scp_path=\"/home1/meichaoyang/dataset/data_aishell2/wake_up/Aishell_wav_raw.scp\""
   ]
  },
  {
   "cell_type": "code",
   "execution_count": 11,
   "metadata": {},
   "outputs": [],
   "source": [
    "aishell_wav_list=list(Path(aishell_dir).rglob(\"*.wav\"))\n",
    "aishell_wav_list.sort(key=lambda Path: os.path.basename(os.path.splitext((str(Path)))[0]))\n",
    "aishell_scp_raw = {}\n",
    "with open(scp_path, 'w') as f:\n",
    "    for path_item in aishell_wav_list:\n",
    "        wav_path = str(path_item)\n",
    "        aishell_scp_raw[os.path.basename(os.path.splitext((wav_path))[0])] = wav_path\n",
    "        f.write(os.path.basename(os.path.splitext((wav_path))[0])+'\\t'+wav_path+'\\n')"
   ]
  },
  {
   "cell_type": "markdown",
   "metadata": {},
   "source": [
    "### 对train满足条件的标注进行筛选"
   ]
  },
  {
   "cell_type": "code",
   "execution_count": 12,
   "metadata": {},
   "outputs": [],
   "source": [
    "aishell_2_corp_raw = \"/home1/meichaoyang/dataset/data_aishell2/wav/trans.txt\"\n",
    "aishell_scp = \"/home1/meichaoyang/dataset/data_aishell2/wake_up/aishell_wav.scp\"\n",
    "aishell_corp = \"/home1/meichaoyang/dataset/data_aishell2/wake_up/aishell_trans.txt\""
   ]
  },
  {
   "cell_type": "code",
   "execution_count": 13,
   "metadata": {},
   "outputs": [],
   "source": [
    "pattern_utt = re.compile(r'/.*\\.')\n",
    "pattern_Eng = re.compile(u'[a-zA-Z\\n]')\n",
    "corp_map = {}\n",
    "with open(aishell_2_corp_raw, \"r\") as f:\n",
    "    for line in f:\n",
    "        data = line.split()\n",
    "        if len(data[1]) > 10 or pattern_Eng.search(data[1]) != None: ##删除小于10和非英文标注\n",
    "            continue\n",
    "        corp_map[pattern_utt.search(data[0]).group()[1:-1]] = data[1]"
   ]
  },
  {
   "cell_type": "code",
   "execution_count": 14,
   "metadata": {},
   "outputs": [],
   "source": [
    "aishell_scp_dic = {}\n",
    "for i in sorted(aishell_scp_raw):\n",
    "    if i not in corp_map.keys():\n",
    "        continue\n",
    "    aishell_scp_dic[i] = aishell_scp_raw[i]"
   ]
  },
  {
   "cell_type": "code",
   "execution_count": 15,
   "metadata": {},
   "outputs": [],
   "source": [
    "with open( aishell_scp, 'w') as f:\n",
    "    for i in aishell_scp_dic:\n",
    "        f.write(i+'\\t'+aishell_scp_dic[i]+'\\n')"
   ]
  },
  {
   "cell_type": "code",
   "execution_count": 16,
   "metadata": {},
   "outputs": [],
   "source": [
    "with open( aishell_corp, 'w') as f:\n",
    "    for i in corp_map:\n",
    "        f.write(i+'\\t'+corp_map[i]+'\\n')"
   ]
  },
  {
   "cell_type": "code",
   "execution_count": 17,
   "metadata": {},
   "outputs": [
    {
     "data": {
      "text/plain": [
       "496215"
      ]
     },
     "execution_count": 17,
     "metadata": {},
     "output_type": "execute_result"
    }
   ],
   "source": [
    "len(corp_map)"
   ]
  },
  {
   "cell_type": "markdown",
   "metadata": {},
   "source": [
    "### 筛选一部分到aishell_2.scp.shuff"
   ]
  },
  {
   "cell_type": "code",
   "execution_count": 21,
   "metadata": {},
   "outputs": [],
   "source": [
    "# !bash tools/random_line.sh aishell_2.scp 5 aishell_2.scp.shuff"
   ]
  },
  {
   "cell_type": "markdown",
   "metadata": {},
   "source": [
    "## 拆分数据"
   ]
  },
  {
   "cell_type": "code",
   "execution_count": 22,
   "metadata": {},
   "outputs": [],
   "source": [
    "SLR_wav_scp = {}\n",
    "SLR_wav_corp = {}\n",
    "aishell_wav_scp = {}\n",
    "aishell_wav_corp = {} "
   ]
  },
  {
   "cell_type": "code",
   "execution_count": 23,
   "metadata": {},
   "outputs": [],
   "source": [
    "\n",
    "with open(SLR85_wav_scp, \"r\") as f:\n",
    "    for line in f:\n",
    "        data = line.split()\n",
    "        SLR_wav_scp[data[0]] = data[1]\n",
    "        SLR_wav_corp[data[0]] = \"你好米雅\""
   ]
  },
  {
   "cell_type": "code",
   "execution_count": 24,
   "metadata": {},
   "outputs": [],
   "source": [
    "\n",
    "with open(aishell_scp, \"r\") as f:\n",
    "    for line in f:\n",
    "        data = line.split()\n",
    "        aishell_wav_scp[data[0]] = data[1]\n",
    "        \n",
    "        \n",
    "with open(aishell_corp, \"r\") as f:\n",
    "    for line in f:\n",
    "        data = line.split()\n",
    "        if data[0] in aishell_wav_scp:\n",
    "            aishell_wav_corp[data[0]] = data[1]"
   ]
  },
  {
   "cell_type": "code",
   "execution_count": 25,
   "metadata": {},
   "outputs": [],
   "source": [
    "a = list(SLR_wav_scp.keys())\n",
    "b = list(aishell_wav_scp.keys())"
   ]
  },
  {
   "cell_type": "markdown",
   "metadata": {},
   "source": [
    "### 分出训练集"
   ]
  },
  {
   "cell_type": "code",
   "execution_count": 26,
   "metadata": {},
   "outputs": [],
   "source": [
    "SLR_train_key = random.sample(a, 10000)\n",
    "aishell_train_key = random.sample(b, 100000)"
   ]
  },
  {
   "cell_type": "code",
   "execution_count": 52,
   "metadata": {},
   "outputs": [],
   "source": [
    "SLR_train_key=[] ####----"
   ]
  },
  {
   "cell_type": "code",
   "execution_count": 27,
   "metadata": {},
   "outputs": [],
   "source": [
    "SLR_wav_scp_tran=dict([(key, SLR_wav_scp[key]) for key in SLR_train_key])\n",
    "SLR_wav_corp_tran=dict([(key, SLR_wav_corp[key]) for key in SLR_train_key])"
   ]
  },
  {
   "cell_type": "code",
   "execution_count": 28,
   "metadata": {},
   "outputs": [],
   "source": [
    "aishell_wav_scp_tran=dict([(key, aishell_wav_scp[key]) for key in aishell_train_key])\n",
    "aishell_wav_corp_tran=dict([(key, aishell_wav_corp[key]) for key in aishell_train_key])"
   ]
  },
  {
   "cell_type": "code",
   "execution_count": 29,
   "metadata": {},
   "outputs": [],
   "source": [
    "wav_scp_train = {**SLR_wav_scp_tran,**aishell_wav_scp_tran}\n",
    "corpus_train = {**SLR_wav_corp_tran, **aishell_wav_corp_tran}"
   ]
  },
  {
   "cell_type": "code",
   "execution_count": 31,
   "metadata": {},
   "outputs": [],
   "source": [
    "with open('/home1/meichaoyang/dataset/data_aishell2/wake_up/data/wav.scp', 'w') as f:\n",
    "    for i in sorted(wav_scp_train):\n",
    "        f.write(i+'\\t'+wav_scp_train[i]+'\\n')\n",
    "        \n",
    "with open('/home1/meichaoyang/dataset/data_aishell2/wake_up/data/trans.txt', 'w') as f:\n",
    "    for i in sorted(corpus_train):\n",
    "        f.write(i+'\\t'+corpus_train[i]+'\\n')"
   ]
  },
  {
   "cell_type": "markdown",
   "metadata": {},
   "source": [
    "### 分出测试集"
   ]
  },
  {
   "cell_type": "code",
   "execution_count": 32,
   "metadata": {},
   "outputs": [],
   "source": [
    "SLR_test_key = random.sample(a, 1000)\n",
    "aishell_test_key = random.sample(b, 10000)"
   ]
  },
  {
   "cell_type": "code",
   "execution_count": 58,
   "metadata": {},
   "outputs": [],
   "source": [
    "SLR_test_key=[] ####----"
   ]
  },
  {
   "cell_type": "code",
   "execution_count": 33,
   "metadata": {},
   "outputs": [],
   "source": [
    "SLR_wav_scp_test=dict([(key, SLR_wav_scp[key]) for key in SLR_test_key])\n",
    "SLR_wav_corp_test=dict([(key, SLR_wav_corp[key]) for key in SLR_test_key])"
   ]
  },
  {
   "cell_type": "code",
   "execution_count": 34,
   "metadata": {},
   "outputs": [],
   "source": [
    "aishell_wav_scp_test=dict([(key, aishell_wav_scp[key]) for key in aishell_test_key])\n",
    "aishell_wav_corp_test=dict([(key, aishell_wav_corp[key]) for key in aishell_test_key])"
   ]
  },
  {
   "cell_type": "code",
   "execution_count": 35,
   "metadata": {},
   "outputs": [],
   "source": [
    "wav_scp_test = {**SLR_wav_scp_test,**aishell_wav_scp_test}\n",
    "corpus_test = {**SLR_wav_corp_test, **aishell_wav_corp_test}"
   ]
  },
  {
   "cell_type": "code",
   "execution_count": 36,
   "metadata": {},
   "outputs": [],
   "source": [
    "with open('/home1/meichaoyang/dataset/data_aishell2/wake_up/test/wav.scp', 'w') as f:\n",
    "    for i in sorted(wav_scp_test):\n",
    "        f.write(i+'\\t'+wav_scp_test[i]+'\\n')\n",
    "        \n",
    "with open('/home1/meichaoyang/dataset/data_aishell2/wake_up/test/trans.txt', 'w') as f:\n",
    "    for i in sorted(corpus_test):\n",
    "        f.write(i+'\\t'+corpus_test[i]+'\\n')"
   ]
  },
  {
   "cell_type": "markdown",
   "metadata": {},
   "source": [
    "### 分出开发集"
   ]
  },
  {
   "cell_type": "code",
   "execution_count": 37,
   "metadata": {},
   "outputs": [],
   "source": [
    "SLR_dev_key = random.sample(a, 1000)\n",
    "aishell_dev_key = random.sample(b, 10000)"
   ]
  },
  {
   "cell_type": "code",
   "execution_count": 64,
   "metadata": {},
   "outputs": [],
   "source": [
    "SLR_test_key=[] ####----"
   ]
  },
  {
   "cell_type": "code",
   "execution_count": 38,
   "metadata": {},
   "outputs": [],
   "source": [
    "SLR_wav_scp_dev=dict([(key, SLR_wav_scp[key]) for key in SLR_dev_key])\n",
    "SLR_wav_corp_dev=dict([(key, SLR_wav_corp[key]) for key in SLR_dev_key])"
   ]
  },
  {
   "cell_type": "code",
   "execution_count": 39,
   "metadata": {},
   "outputs": [],
   "source": [
    "aishell_wav_scp_dev=dict([(key, aishell_wav_scp[key]) for key in aishell_dev_key])\n",
    "aishell_wav_corp_dev=dict([(key, aishell_wav_corp[key]) for key in aishell_dev_key])"
   ]
  },
  {
   "cell_type": "code",
   "execution_count": 40,
   "metadata": {},
   "outputs": [],
   "source": [
    "wav_scp_dev = {**SLR_wav_scp_dev,**aishell_wav_scp_dev}\n",
    "corpus_dev = {**SLR_wav_corp_dev, **aishell_wav_corp_dev}"
   ]
  },
  {
   "cell_type": "code",
   "execution_count": 41,
   "metadata": {},
   "outputs": [],
   "source": [
    "with open('/home1/meichaoyang/dataset/data_aishell2/wake_up/dev/wav.scp', 'w') as f:\n",
    "    for i in sorted(wav_scp_dev):\n",
    "        f.write(i+'\\t'+wav_scp_dev[i]+'\\n')\n",
    "        \n",
    "with open('/home1/meichaoyang/dataset/data_aishell2/wake_up/dev/trans.txt', 'w') as f:\n",
    "    for i in sorted(corpus_dev):\n",
    "        f.write(i+'\\t'+corpus_dev[i]+'\\n')"
   ]
  },
  {
   "cell_type": "code",
   "execution_count": 85,
   "metadata": {},
   "outputs": [
    {
     "data": {
      "text/plain": [
       "496215"
      ]
     },
     "execution_count": 85,
     "metadata": {},
     "output_type": "execute_result"
    }
   ],
   "source": [
    "len(b)"
   ]
  },
  {
   "cell_type": "code",
   "execution_count": null,
   "metadata": {},
   "outputs": [],
   "source": []
  }
 ],
 "metadata": {
  "kernelspec": {
   "display_name": "Python 3",
   "language": "python",
   "name": "python3"
  },
  "language_info": {
   "codemirror_mode": {
    "name": "ipython",
    "version": 3
   },
   "file_extension": ".py",
   "mimetype": "text/x-python",
   "name": "python",
   "nbconvert_exporter": "python",
   "pygments_lexer": "ipython3",
   "version": "3.7.0"
  }
 },
 "nbformat": 4,
 "nbformat_minor": 2
}
